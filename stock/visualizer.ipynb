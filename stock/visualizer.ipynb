{
 "cells": [
  {
   "cell_type": "markdown",
   "metadata": {
    "id": "xvcoHMOGhu9p"
   },
   "source": [
    "**코드 조각 1: 가시화기 클래스의 생성자**"
   ]
  },
  {
   "cell_type": "code",
   "execution_count": null,
   "metadata": {
    "colab": {
     "base_uri": "https://localhost:8080/"
    },
    "executionInfo": {
     "elapsed": 15987,
     "status": "ok",
     "timestamp": 1699407983155,
     "user": {
      "displayName": "빈투스마일루스",
      "userId": "05197320515904642127"
     },
     "user_tz": -540
    },
    "id": "Xn7MZCSNl2gh",
    "outputId": "c2459f65-12a8-4467-8a8d-809bdb0f0e06"
   },
   "outputs": [
    {
     "name": "stdout",
     "output_type": "stream",
     "text": [
      "Mounted at /content/drive\n"
     ]
    }
   ],
   "source": [
    "from google.colab import drive\n",
    "drive.mount('/content/drive')"
   ]
  },
  {
   "cell_type": "code",
   "execution_count": null,
   "metadata": {
    "colab": {
     "base_uri": "https://localhost:8080/"
    },
    "executionInfo": {
     "elapsed": 9729,
     "status": "ok",
     "timestamp": 1699407993936,
     "user": {
      "displayName": "빈투스마일루스",
      "userId": "05197320515904642127"
     },
     "user_tz": -540
    },
    "id": "HonV7BzePjiu",
    "outputId": "ba59f834-2f1b-46de-c1cd-f0fcf73d9ce3"
   },
   "outputs": [],
   "source": [
    "!pip install --upgrade mplfinance"
   ]
  },
  {
   "cell_type": "code",
   "execution_count": null,
   "metadata": {
    "colab": {
     "base_uri": "https://localhost:8080/"
    },
    "executionInfo": {
     "elapsed": 10689,
     "status": "ok",
     "timestamp": 1699408004616,
     "user": {
      "displayName": "빈투스마일루스",
      "userId": "05197320515904642127"
     },
     "user_tz": -540
    },
    "id": "h4zC4zeTTiw1",
    "outputId": "437a7ec1-f1b4-4ac5-d08f-a12ca9f1e8bd"
   },
   "outputs": [],
   "source": [
    "%cd /content/drive/MyDrive/stock"
   ]
  },
  {
   "cell_type": "code",
   "execution_count": null,
   "metadata": {
    "id": "N34JxCzz-lXb"
   },
   "outputs": [],
   "source": [
    "%run /content/drive/MyDrive/stock/agent.ipynb"
   ]
  },
  {
   "cell_type": "code",
   "execution_count": null,
   "metadata": {
    "id": "0kwYe3cLmtLS"
   },
   "outputs": [],
   "source": [
    "import threading\n",
    "import numpy as np\n",
    "import matplotlib.pyplot as plt\n",
    "plt.switch_backend('agg')\n",
    "\n",
    "from mplfinance.original_flavor import candlestick_ohlc"
   ]
  },
  {
   "cell_type": "code",
   "execution_count": null,
   "metadata": {
    "id": "RjPXarI6mrP5"
   },
   "outputs": [],
   "source": [
    "lock = threading.Lock()\n",
    "\n",
    "class Visualizer:\n",
    "    COLORS = ['r', 'b', 'g']\n",
    "\n",
    "\n",
    "    def __init__(self):\n",
    "        self.canvas = None\n",
    "        # 캔버스 같은 역할을 하는 Matplotlib의 Figure 클래스 객체\n",
    "        self.fig = None\n",
    "        # 차트를 그리기 위한 Matplotlib의 Axes 클래스 객체\n",
    "        self.axes = None\n",
    "        self.title = ''  # 그림 제목\n",
    "        self.x = []\n",
    "        self.xticks = []\n",
    "        self.xlabels = []\n",
    "\n",
    "    def prepare(self, chart_data, title):\n",
    "        self.title = title\n",
    "        with lock:\n",
    "            # 캔버스를 초기화하고 5개의 차트를 그릴 준비\n",
    "            self.fig, self.axes = plt.subplots(\n",
    "                nrows=5, ncols=1, facecolor='w', sharex=True)\n",
    "            for ax in self.axes:\n",
    "                # 보기 어려운 과학적 표기 비활성화\n",
    "                ax.get_xaxis().get_major_formatter() \\\n",
    "                    .set_scientific(False)\n",
    "                ax.get_yaxis().get_major_formatter() \\\n",
    "                    .set_scientific(False)\n",
    "                # y axis 위치 오른쪽으로 변경\n",
    "                ax.yaxis.tick_right()\n",
    "            # 차트 1. 일봉 차트\n",
    "            self.axes[0].set_ylabel('Env.')  # y 축 레이블 표시\n",
    "            x = np.arange(len(chart_data))\n",
    "            # open, high, low, close 순서로된 2차원 배열\n",
    "            ohlc = np.hstack((\n",
    "                x.reshape(-1, 1), np.array(chart_data)[:, 1:-1]))\n",
    "            # 양봉은 빨간색으로 음봉은 파란색으로 표시\n",
    "            candlestick_ohlc(self.axes[0], ohlc, colorup='r', colordown='b')\n",
    "            # 거래량 가시화\n",
    "            ax = self.axes[0].twinx()\n",
    "            volume = np.array(chart_data)[:, -1].tolist()\n",
    "            ax.bar(x, volume, color='b', alpha=0.3)\n",
    "            # x축 설정\n",
    "            self.x = np.arange(len(chart_data['date']))\n",
    "            self.xticks = chart_data.index[[0, -1]]\n",
    "            self.xlabels = chart_data.iloc[[0, -1]]['date']\n",
    "\n",
    "    def plot(self, epoch_str=None, num_epoches=None, epsilon=None,\n",
    "            action_list=None, actions=None, num_stocks=None,\n",
    "            outvals_value=[], outvals_policy=[], exps=None,\n",
    "            initial_balance=None, pvs=None):\n",
    "        with lock:\n",
    "            actions = np.array(actions)  # 에이전트의 행동 배열\n",
    "            # 가치 신경망의 출력 배열\n",
    "            outvals_value = np.array(outvals_value)\n",
    "            # 정책 신경망의 출력 배열\n",
    "            outvals_policy = np.array(outvals_policy)\n",
    "            # 초기 자본금 배열\n",
    "            pvs_base = np.zeros(len(actions)) + initial_balance\n",
    "\n",
    "            # 차트 2. 에이전트 상태 (행동, 보유 주식 수)\n",
    "            for action, color in zip(action_list, self.COLORS):\n",
    "                for i in self.x[actions == action]:\n",
    "                    # 배경 색으로 행동 표시\n",
    "                    self.axes[1].axvline(i, color=color, alpha=0.1)\n",
    "            self.axes[1].plot(self.x, num_stocks, '-k')  # 보유 주식 수 그리기\n",
    "\n",
    "            # 차트 3. 가치 신경망\n",
    "            if len(outvals_value) > 0:\n",
    "                max_actions = np.argmax(outvals_value, axis=1)\n",
    "                for action, color in zip(action_list, self.COLORS):\n",
    "                    # 배경 그리기\n",
    "                    for idx in self.x:\n",
    "                        if max_actions[idx] == action:\n",
    "                            self.axes[2].axvline(idx, color=color, alpha=0.1)\n",
    "                    # 가치 신경망 출력 그리기\n",
    "                    self.axes[2].plot(self.x, outvals_value[:, action],\n",
    "                        color=color, linestyle='-')\n",
    "\n",
    "            # 차트 4. 정책 신경망\n",
    "            # 탐험을 노란색 배경으로 그리기\n",
    "            for exp_idx in exps:\n",
    "                self.axes[3].axvline(exp_idx, color='y')\n",
    "            # 행동을 배경으로 그리기\n",
    "            _outvals = outvals_policy if len(outvals_policy) > 0 else outvals_value\n",
    "            for idx, outval in zip(self.x, _outvals):\n",
    "                color = 'white'\n",
    "                if np.isnan(outval.max()):\n",
    "                    continue\n",
    "                if outval.argmax() == Agent.ACTION_BUY:\n",
    "                    color = self.COLORS[0]  # 매수 빨간색\n",
    "                elif outval.argmax() == Agent.ACTION_SELL:\n",
    "                    color = self.COLORS[1]  # 매도 파란색\n",
    "                elif outval.argmax() == Agent.ACTION_HOLD:\n",
    "                    color = self.COLORS[2]  # 관망 초록색\n",
    "                self.axes[3].axvline(idx, color=color, alpha=0.1)\n",
    "            # 정책 신경망의 출력 그리기\n",
    "            if len(outvals_policy) > 0:\n",
    "                for action, color in zip(action_list, self.COLORS):\n",
    "                    self.axes[3].plot(\n",
    "                        self.x, outvals_policy[:, action],\n",
    "                        color=color, linestyle='-')\n",
    "\n",
    "            # 차트 5. 포트폴리오 가치\n",
    "            self.axes[4].axhline(\n",
    "                initial_balance, linestyle='-', color='gray')\n",
    "            self.axes[4].fill_between(self.x, pvs, pvs_base,\n",
    "                where=pvs > pvs_base, facecolor='r', alpha=0.1)\n",
    "            self.axes[4].fill_between(self.x, pvs, pvs_base,\n",
    "                where=pvs < pvs_base, facecolor='b', alpha=0.1)\n",
    "            self.axes[4].plot(self.x, pvs, '-k')\n",
    "            self.axes[4].xaxis.set_ticks(self.xticks)\n",
    "            self.axes[4].xaxis.set_ticklabels(self.xlabels)\n",
    "\n",
    "            # 에포크 및 탐험 비율\n",
    "            self.fig.suptitle(f'{self.title}\\nEPOCH:{epoch_str}/{num_epoches} EPSILON:{epsilon:.2f}')\n",
    "            # 캔버스 레이아웃 조정\n",
    "            self.fig.tight_layout()\n",
    "            self.fig.subplots_adjust(top=0.85)\n",
    "\n",
    "    def clear(self, xlim):\n",
    "        with lock:\n",
    "            _axes = self.axes.tolist()\n",
    "            for ax in _axes[1:]:\n",
    "                ax.cla()  # 그린 차트 지우기\n",
    "                ax.relim()  # limit를 초기화\n",
    "                ax.autoscale()  # 스케일 재설정\n",
    "            # y축 레이블 재설정\n",
    "            self.axes[1].set_ylabel('Agent')\n",
    "            self.axes[2].set_ylabel('V')\n",
    "            self.axes[3].set_ylabel('P')\n",
    "            self.axes[4].set_ylabel('PV')\n",
    "            for ax in _axes:\n",
    "                ax.set_xlim(xlim)  # x축 limit 재설정\n",
    "                ax.get_xaxis().get_major_formatter() \\\n",
    "                    .set_scientific(False)  # x축의 과학적 표기 비활성화\n",
    "                ax.get_yaxis().get_major_formatter() \\\n",
    "                    .set_scientific(False)  # y축의 과학적 표기 비활성화\n",
    "                # x축 간격을 일정하게 설정\n",
    "                ax.ticklabel_format(useOffset=False)\n",
    "\n",
    "    def save(self, path):\n",
    "        with lock:\n",
    "            self.fig.savefig(path)"
   ]
  }
 ],
 "metadata": {
  "colab": {
   "authorship_tag": "ABX9TyMzqug9HE+2KOig06F8xqIH",
   "provenance": []
  },
  "kernelspec": {
   "display_name": "Python 3",
   "name": "python3"
  },
  "language_info": {
   "name": "python"
  }
 },
 "nbformat": 4,
 "nbformat_minor": 0
}
