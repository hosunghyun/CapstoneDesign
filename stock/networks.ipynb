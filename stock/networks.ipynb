{
 "cells": [
  {
   "cell_type": "markdown",
   "metadata": {
    "id": "0rJgASpOhIFI"
   },
   "source": [
    "**코드 조각 1: 신경망 클래스**"
   ]
  },
  {
   "cell_type": "code",
   "execution_count": null,
   "metadata": {
    "id": "8-OgRlRZsVVx"
   },
   "outputs": [],
   "source": [
    "import os\n",
    "import threading\n",
    "import numpy as np\n",
    "from tensorflow.keras.models import Model\n",
    "from tensorflow.keras.layers import Input, Dense, LSTM, Conv1D, BatchNormalization, Dropout, MaxPooling1D, Flatten\n",
    "from tensorflow.keras.optimizers import SGD\n",
    "from tensorflow.keras import backend"
   ]
  },
  {
   "cell_type": "code",
   "execution_count": null,
   "metadata": {
    "colab": {
     "base_uri": "https://localhost:8080/"
    },
    "executionInfo": {
     "elapsed": 397,
     "status": "ok",
     "timestamp": 1699090907170,
     "user": {
      "displayName": "빈투스마일루스",
      "userId": "05197320515904642127"
     },
     "user_tz": -540
    },
    "id": "NojNCvCItTJr",
    "outputId": "ca8bd401-c492-408b-8989-17d40cddc46c"
   },
   "outputs": [],
   "source": [
    "{\n",
    "    \"image_data_format\": \"channels_last\",\n",
    "    \"epsilon\": 1e-07,\n",
    "    \"floatx\": \"float32\",\n",
    "    \"backend\": \"tensorflow\"\n",
    "}"
   ]
  },
  {
   "cell_type": "code",
   "execution_count": null,
   "metadata": {
    "id": "cdW2mxV4lSxf"
   },
   "outputs": [],
   "source": [
    "class Network:\n",
    "    lock = threading.Lock()\n",
    "\n",
    "    def __init__(self, input_dim=0, output_dim=0, lr=0.001,\n",
    "                shared_network=None, activation='sigmoid', loss='mse'):\n",
    "        self.input_dim = input_dim\n",
    "        self.output_dim = output_dim\n",
    "        self.lr = lr\n",
    "        self.shared_network = shared_network\n",
    "        self.activation = activation\n",
    "        self.loss = loss\n",
    "        self.model = None\n",
    "\n",
    "    def predict(self, sample):\n",
    "        with self.lock:\n",
    "            pred = self.model.predict_on_batch(sample).flatten()\n",
    "            return pred\n",
    "\n",
    "    def train_on_batch(self, x, y):\n",
    "        loss = 0.\n",
    "        with self.lock:\n",
    "            history = self.model.fit(x, y, epochs=10, verbose=False)\n",
    "            loss += np.sum(history.history['loss'])\n",
    "        return loss\n",
    "\n",
    "    def save_model(self, model_path):\n",
    "        if model_path is not None and self.model is not None:\n",
    "            self.model.save_weights(model_path, overwrite=True)\n",
    "\n",
    "    def load_model(self, model_path):\n",
    "        if model_path is not None:\n",
    "            self.model.load_weights(model_path)\n",
    "\n",
    "    @classmethod\n",
    "    def get_shared_network(cls, net='dnn', num_steps=1, input_dim=0, output_dim=0):\n",
    "        # output_dim은 pytorch에서 필요\n",
    "        if net == 'dnn':\n",
    "            return DNN.get_network_head(Input((input_dim,)))\n",
    "        elif net == 'lstm':\n",
    "            return LSTMNetwork.get_network_head(Input((num_steps, input_dim)))\n",
    "        elif net == 'cnn':\n",
    "            return CNN.get_network_head(Input((num_steps, input_dim)))\n",
    "\n",
    "class LSTMNetwork(Network):\n",
    "    def __init__(self, *args, num_steps=1, **kwargs):\n",
    "        super().__init__(*args, **kwargs)\n",
    "        self.num_steps = num_steps\n",
    "        inp = None\n",
    "        output = None\n",
    "        if self.shared_network is None:\n",
    "            inp = Input((self.num_steps, self.input_dim))\n",
    "            output = self.get_network_head(inp).output\n",
    "        else:\n",
    "            inp = self.shared_network.input\n",
    "            output = self.shared_network.output\n",
    "        output = Dense(\n",
    "            self.output_dim, activation=self.activation,\n",
    "            kernel_initializer='random_normal')(output)\n",
    "        self.model = Model(inp, output)\n",
    "        self.model.compile(\n",
    "            optimizer=SGD(learning_rate=self.lr), loss=self.loss)\n",
    "\n",
    "    @staticmethod\n",
    "    def get_network_head(inp):\n",
    "        # cuDNN 사용을 위한 조건\n",
    "        # https://www.tensorflow.org/api_docs/python/tf/keras/layers/LSTM\n",
    "        output = LSTM(256, dropout=0.1, return_sequences=True,\n",
    "                    kernel_initializer='random_normal')(inp)\n",
    "        output = BatchNormalization()(output)\n",
    "        output = LSTM(128, dropout=0.1, return_sequences=True,\n",
    "                    kernel_initializer='random_normal')(output)\n",
    "        output = BatchNormalization()(output)\n",
    "        output = LSTM(64, dropout=0.1, return_sequences=True,\n",
    "                    kernel_initializer='random_normal')(output)\n",
    "        output = BatchNormalization()(output)\n",
    "        output = LSTM(32, dropout=0.1, kernel_initializer='random_normal')(output)\n",
    "        output = BatchNormalization()(output)\n",
    "        return Model(inp, output)\n",
    "\n",
    "    def train_on_batch(self, x, y):\n",
    "        x = np.array(x).reshape((-1, self.num_steps, self.input_dim))\n",
    "        return super().train_on_batch(x, y)\n",
    "\n",
    "    def predict(self, sample):\n",
    "        sample = np.array(sample).reshape((1, self.num_steps, self.input_dim))\n",
    "        return super().predict(sample)"
   ]
  }
 ],
 "metadata": {
  "colab": {
   "authorship_tag": "ABX9TyNa8rrDQ1nVsduN3Ahsh0MH",
   "provenance": []
  },
  "kernelspec": {
   "display_name": "Python 3",
   "name": "python3"
  },
  "language_info": {
   "name": "python"
  }
 },
 "nbformat": 4,
 "nbformat_minor": 0
}
