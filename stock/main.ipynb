{
 "cells": [
  {
   "cell_type": "markdown",
   "metadata": {
    "id": "_jM3O1JEivIA"
   },
   "source": [
    "**코드 조각 1: 프로그램 인자 설정**"
   ]
  },
  {
   "cell_type": "code",
   "execution_count": 1,
   "metadata": {
    "colab": {
     "base_uri": "https://localhost:8080/"
    },
    "executionInfo": {
     "elapsed": 18927,
     "status": "ok",
     "timestamp": 1700986293627,
     "user": {
      "displayName": "빈투스마일루스",
      "userId": "05197320515904642127"
     },
     "user_tz": -540
    },
    "id": "PtlEMuYbk7tM",
    "outputId": "954f9b29-48a9-4c5c-ea58-2acc9422e4de"
   },
   "outputs": [
    {
     "name": "stdout",
     "output_type": "stream",
     "text": [
      "Mounted at /content/drive\n"
     ]
    }
   ],
   "source": [
    "from google.colab import drive\n",
    "drive.mount('/content/drive')"
   ]
  },
  {
   "cell_type": "code",
   "execution_count": 2,
   "metadata": {
    "colab": {
     "base_uri": "https://localhost:8080/"
    },
    "executionInfo": {
     "elapsed": 9,
     "status": "ok",
     "timestamp": 1700986293627,
     "user": {
      "displayName": "빈투스마일루스",
      "userId": "05197320515904642127"
     },
     "user_tz": -540
    },
    "id": "erxeEQ5PTqlE",
    "outputId": "0e8da273-93a4-45a8-8002-bfacd2dc1911"
   },
   "outputs": [
    {
     "name": "stdout",
     "output_type": "stream",
     "text": [
      "/content/drive/MyDrive/stock\n"
     ]
    }
   ],
   "source": [
    "%cd /content/drive/MyDrive/stock/"
   ]
  },
  {
   "cell_type": "code",
   "execution_count": null,
   "metadata": {
    "colab": {
     "base_uri": "https://localhost:8080/"
    },
    "executionInfo": {
     "elapsed": 9201,
     "status": "ok",
     "timestamp": 1700986302822,
     "user": {
      "displayName": "빈투스마일루스",
      "userId": "05197320515904642127"
     },
     "user_tz": -540
    },
    "id": "cUerqx49Tqn3",
    "outputId": "ed399e26-0cd7-41da-e407-3aff0307a254"
   },
   "outputs": [],
   "source": [
    "!pip install import-ipynb"
   ]
  },
  {
   "cell_type": "code",
   "execution_count": 4,
   "metadata": {
    "executionInfo": {
     "elapsed": 490,
     "status": "ok",
     "timestamp": 1700986303304,
     "user": {
      "displayName": "빈투스마일루스",
      "userId": "05197320515904642127"
     },
     "user_tz": -540
    },
    "id": "wYSibRNL85qU"
   },
   "outputs": [],
   "source": [
    "%run /content/drive/MyDrive/stock/utils.ipynb"
   ]
  },
  {
   "cell_type": "code",
   "execution_count": 5,
   "metadata": {
    "executionInfo": {
     "elapsed": 7,
     "status": "ok",
     "timestamp": 1700986303305,
     "user": {
      "displayName": "빈투스마일루스",
      "userId": "05197320515904642127"
     },
     "user_tz": -540
    },
    "id": "lByl3LaSdv__"
   },
   "outputs": [],
   "source": [
    "%run /content/drive/MyDrive/stock/settings.ipynb"
   ]
  },
  {
   "cell_type": "code",
   "execution_count": null,
   "metadata": {
    "colab": {
     "base_uri": "https://localhost:8080/"
    },
    "executionInfo": {
     "elapsed": 56374,
     "status": "ok",
     "timestamp": 1700986359673,
     "user": {
      "displayName": "빈투스마일루스",
      "userId": "05197320515904642127"
     },
     "user_tz": -540
    },
    "id": "YSf8218zdxW3",
    "outputId": "f8e02265-5044-4e42-ca1d-4aff0c9ce430"
   },
   "outputs": [],
   "source": [
    "%run /content/drive/MyDrive/stock/learners.ipynb"
   ]
  },
  {
   "cell_type": "code",
   "execution_count": null,
   "metadata": {
    "colab": {
     "base_uri": "https://localhost:8080/"
    },
    "executionInfo": {
     "elapsed": 31387,
     "status": "ok",
     "timestamp": 1700986391049,
     "user": {
      "displayName": "빈투스마일루스",
      "userId": "05197320515904642127"
     },
     "user_tz": -540
    },
    "id": "ss5TWGX4dyQp",
    "outputId": "96a5734d-a1f9-4885-b265-9c6de6bc6ac0"
   },
   "outputs": [],
   "source": [
    "%run /content/drive/MyDrive/stock/data_manager.ipynb"
   ]
  },
  {
   "cell_type": "code",
   "execution_count": 8,
   "metadata": {
    "executionInfo": {
     "elapsed": 25,
     "status": "ok",
     "timestamp": 1700986391049,
     "user": {
      "displayName": "빈투스마일루스",
      "userId": "05197320515904642127"
     },
     "user_tz": -540
    },
    "id": "D7P2fWYXfrF4"
   },
   "outputs": [],
   "source": [
    "import os\n",
    "import sys\n",
    "import logging\n",
    "import argparse\n",
    "import json"
   ]
  },
  {
   "cell_type": "code",
   "execution_count": 9,
   "metadata": {
    "executionInfo": {
     "elapsed": 25,
     "status": "ok",
     "timestamp": 1700986391050,
     "user": {
      "displayName": "빈투스마일루스",
      "userId": "05197320515904642127"
     },
     "user_tz": -540
    },
    "id": "eL755jV7fsi3"
   },
   "outputs": [],
   "source": [
    "os.environ['VARL'] = os.path.dirname(os.path.abspath('/content/drive/MyDrive/stock'))"
   ]
  },
  {
   "cell_type": "code",
   "execution_count": 12,
   "metadata": {
    "executionInfo": {
     "elapsed": 382,
     "status": "ok",
     "timestamp": 1700987742421,
     "user": {
      "displayName": "빈투스마일루스",
      "userId": "05197320515904642127"
     },
     "user_tz": -540
    },
    "id": "dGnfHtfTy68U"
   },
   "outputs": [],
   "source": [
    "args_list = [\n",
    "    '--mode', 'test',\n",
    "    '--name', 'Gold',\n",
    "    '--stock_code', 'GC=F',\n",
    "    '--method', 'a2c',\n",
    "    '--net', 'lstm',\n",
    "    '--backend', 'tensorflow',\n",
    "    '--start_date', '2023-11-25',\n",
    "    '--end_date', '2023-12-31',\n",
    "    '--lr', '0.1',\n",
    "    '--discount_factor', '1.0',\n",
    "    '--balance', '50000000'\n",
    "]"
   ]
  },
  {
   "cell_type": "code",
   "execution_count": null,
   "metadata": {
    "colab": {
     "base_uri": "https://localhost:8080/",
     "height": 400
    },
    "executionInfo": {
     "elapsed": 1193,
     "status": "error",
     "timestamp": 1700987771807,
     "user": {
      "displayName": "빈투스마일루스",
      "userId": "05197320515904642127"
     },
     "user_tz": -540
    },
    "id": "XUx_SPcyuNit",
    "outputId": "0cb9186d-7e25-4841-ea54-b8af9e5e38a6"
   },
   "outputs": [],
   "source": [
    "if __name__ == '__main__':\n",
    "    parser = argparse.ArgumentParser()\n",
    "    parser.add_argument('--mode', choices=['train', 'test', 'update', 'predict'], default='train')\n",
    "    parser.add_argument('--name', default=get_time_str()+\"gold\")\n",
    "    parser.add_argument('--stock_code', nargs='+')\n",
    "    parser.add_argument('--method', default='a2c')\n",
    "    parser.add_argument('--net', default='lstm')\n",
    "    parser.add_argument('--backend', default='tensorflow')\n",
    "    parser.add_argument('--start_date', default='2020-07-01')\n",
    "    parser.add_argument('--end_date', default='2022-12-31')\n",
    "    parser.add_argument('--lr', type=float, default=0.01)\n",
    "    parser.add_argument('--discount_factor', type=float, default=0.9)\n",
    "    parser.add_argument('--balance', type=int, default=100000000)\n",
    "    parser.add_argument('--num_epoches', type=int, default=50)\n",
    "    args = parser.parse_args(args_list)\n",
    "\n",
    "    # 학습기 파라미터 설정\n",
    "    output_name = f'{args.mode}_{args.name}_{args.method}_{args.net}'\n",
    "    learning = args.mode in ['train', 'update']\n",
    "    reuse_models = args.mode in ['test', 'update', 'predict']\n",
    "    value_network_name = f'{args.name}_{args.method}_{args.net}_value.mdl'\n",
    "    policy_network_name = f'{args.name}_{args.method}_{args.net}_policy.mdl'\n",
    "    start_epsilon = 0.4 if args.mode in ['train', 'update'] else 0\n",
    "    num_epoches = 50 if args.mode in ['train', 'update'] else 1\n",
    "    num_steps = 4 if args.net in ['lstm', 'cnn'] else 1\n",
    "\n",
    "    # Backend 설정\n",
    "    os.environ['VARL'] = args.backend\n",
    "    os.environ['KERAS_BACKEND'] = 'tensorflow'\n",
    "\n",
    "\n",
    "    # 출력 경로 생성\n",
    "    output_path = os.path.join('VARL', 'output', output_name)\n",
    "    if not os.path.isdir(output_path):\n",
    "        os.makedirs(output_path)\n",
    "\n",
    "    # 파라미터 기록\n",
    "    params = json.dumps(vars(args))\n",
    "    with open(os.path.join(output_path, 'params.json'), 'w') as f:\n",
    "        f.write(params)\n",
    "\n",
    "    # 모델 경로 준비\n",
    "    # 모델 포멧은 TensorFlow는 h5, PyTorch는 pickle\n",
    "    value_network_path = os.path.join('VARL', 'models', value_network_name)\n",
    "    policy_network_path = os.path.join('VARL', 'models', policy_network_name)\n",
    "\n",
    "    # 로그 기록 설정\n",
    "    log_path = os.path.join(output_path, f'{output_name}.log')\n",
    "    if os.path.exists(log_path):\n",
    "        os.remove(log_path)\n",
    "    logging.basicConfig(format='%(message)s')\n",
    "    logger = logging.getLogger(LOGGER_NAME)\n",
    "    logger.setLevel(logging.DEBUG)\n",
    "    logger.propagate = False\n",
    "    stream_handler = logging.StreamHandler(sys.stdout)\n",
    "    stream_handler.setLevel(logging.INFO)\n",
    "    file_handler = logging.FileHandler(filename=log_path, encoding='utf-8')\n",
    "    file_handler.setLevel(logging.DEBUG)\n",
    "    logger.addHandler(stream_handler)\n",
    "    logger.addHandler(file_handler)\n",
    "    logger.info(params)\n",
    "\n",
    "    # Backend 설정, 로그 설정을 먼저하고 RLTrader 모듈들을 이후에 임포트해야 함\n",
    "    #from learners\n",
    "    #import ReinforcementLearner, DQNLearner, PolicyGradientLearner, ActorCriticLearner, A2CLearner, A3CLearner\n",
    "\n",
    "    common_params = {}\n",
    "    list_stock_code = []\n",
    "    list_chart_data = []\n",
    "    list_training_data = []\n",
    "    list_min_trading_price = []\n",
    "    list_max_trading_price = []\n",
    "\n",
    "    for stock_code in args.stock_code:\n",
    "        # 차트 데이터, 학습 데이터 준비\n",
    "        chart_data, training_data = load_data(stock_code, args.start_date, args.end_date)\n",
    "\n",
    "        assert len(chart_data) >= num_steps\n",
    "\n",
    "        # 최소/최대 단일 매매 금액 설정\n",
    "        min_trading_price = 2500000\n",
    "        max_trading_price = 100000000\n",
    "\n",
    "        # 공통 파라미터 설정\n",
    "        common_params = {'method': args.method,\n",
    "            'net': args.net, 'num_steps': num_steps, 'lr': args.lr,\n",
    "            'balance': args.balance, 'num_epoches': num_epoches,\n",
    "            'discount_factor': args.discount_factor, 'start_epsilon': start_epsilon,\n",
    "            'output_path': output_path, 'reuse_models': reuse_models}\n",
    "\n",
    "        # 강화학습 시작\n",
    "        learner = None\n",
    "        common_params.update({'stock_code': stock_code,\n",
    "                'chart_data': chart_data,\n",
    "                'training_data': training_data,\n",
    "                'min_trading_price': min_trading_price,\n",
    "                'max_trading_price': max_trading_price})\n",
    "        learner = A2CLearner(**{**common_params,\n",
    "                    'value_network_path': value_network_path,\n",
    "                    'policy_network_path': policy_network_path})\n",
    "\n",
    "\n",
    "    assert learner is not None\n",
    "\n",
    "    if args.mode in ['train', 'test', 'update']:\n",
    "        learner.run(learning=learning)\n",
    "        if args.mode in ['train', 'update']:\n",
    "            learner.save_models()\n",
    "    elif args.mode == 'predict':\n",
    "        learner.predict()\n"
   ]
  }
 ],
 "metadata": {
  "accelerator": "TPU",
  "colab": {
   "authorship_tag": "ABX9TyONxLSrMAPxSvaIvo8UBekV",
   "provenance": []
  },
  "kernelspec": {
   "display_name": "Python 3",
   "name": "python3"
  },
  "language_info": {
   "name": "python"
  }
 },
 "nbformat": 4,
 "nbformat_minor": 0
}
