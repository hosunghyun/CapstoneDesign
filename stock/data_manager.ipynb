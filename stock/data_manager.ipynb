{
 "cells": [
  {
   "cell_type": "markdown",
   "metadata": {
    "id": "-EvpPVE2iZQ_"
   },
   "source": [
    "**코드 조각 1: 자질 벡터 정의**"
   ]
  },
  {
   "cell_type": "code",
   "execution_count": null,
   "metadata": {
    "colab": {
     "base_uri": "https://localhost:8080/"
    },
    "executionInfo": {
     "elapsed": 18295,
     "status": "ok",
     "timestamp": 1699772192683,
     "user": {
      "displayName": "빈투스마일루스",
      "userId": "05197320515904642127"
     },
     "user_tz": -540
    },
    "id": "OZBE06OP9g9M",
    "outputId": "bcc48595-bcb5-4814-9fa6-f1864a37cf5b"
   },
   "outputs": [],
   "source": [
    "!pip install -U finance-datareader\n",
    "!pip install ta"
   ]
  },
  {
   "cell_type": "code",
   "execution_count": null,
   "metadata": {
    "colab": {
     "base_uri": "https://localhost:8080/"
    },
    "executionInfo": {
     "elapsed": 6714,
     "status": "ok",
     "timestamp": 1699777873315,
     "user": {
      "displayName": "빈투스마일루스",
      "userId": "05197320515904642127"
     },
     "user_tz": -540
    },
    "id": "VszI0Cclp6P3",
    "outputId": "6be2fb99-8e52-4aec-c936-c4e8b06b9a31"
   },
   "outputs": [],
   "source": [
    "!pip install -U yfinance"
   ]
  },
  {
   "cell_type": "code",
   "execution_count": null,
   "metadata": {
    "id": "WlbFqINFpYjH"
   },
   "outputs": [],
   "source": [
    "import pandas as pd\n",
    "import numpy as np\n",
    "import datetime\n",
    "from datetime import datetime\n",
    "import yfinance as yf\n",
    "import ta"
   ]
  },
  {
   "cell_type": "code",
   "execution_count": null,
   "metadata": {
    "id": "Ch2Av0jp4iOf"
   },
   "outputs": [],
   "source": [
    "COLUMNS_CHART_DATA = ['date', 'open', 'high', 'low', 'close', 'volume']\n",
    "\n",
    "COLUMNS_TRAINING_DATA = [\n",
    "    'diffratio', 'open_lastclose_ratio', 'high_close_ratio', 'low_close_ratio', 'close_lastclose_ratio', 'volume_lastvolume_ratio',\n",
    "    'sma_close_ma5_ratio', 'sma_close_ma10_ratio', 'sma_close_ma20_ratio', 'sma_close_ma60_ratio', 'sma_close_ma120_ratio',\n",
    "    'sma_volume_ma5_ratio', 'sma_volume_ma10_ratio', 'sma_volume_ma20_ratio', 'sma_volume_ma60_ratio', 'sma_volume_ma120_ratio',\n",
    "    'ema_close_ma5_ratio', 'ema_close_ma10_ratio', 'ema_close_ma20_ratio', 'ema_close_ma60_ratio', 'ema_close_ma120_ratio',\n",
    "    'ema_volume_ma5_ratio', 'ema_volume_ma10_ratio', 'ema_volume_ma20_ratio', 'ema_volume_ma60_ratio', 'ema_volume_ma120_ratio',\n",
    "    'bhb_ratio', 'blb_ratio', 'rsi_ratio', 'sr_ratio', 'macd_ratio', 'obv_ratio', 'adi_ratio',\n",
    "    'sma_sp_close_ma5_ratio', 'sma_sp_close_ma10_ratio', 'sma_sp_close_ma20_ratio', 'sma_sp_close_ma60_ratio', 'sma_sp_close_ma120_ratio',\n",
    "    'ema_sp_close_ma5_ratio', 'ema_sp_close_ma10_ratio', 'ema_sp_close_ma20_ratio', 'ema_sp_close_ma60_ratio', 'ema_sp_close_ma120_ratio',\n",
    "    'sma_dji_close_ma5_ratio', 'sma_dji_close_ma10_ratio', 'sma_dji_close_ma20_ratio', 'sma_dji_close_ma60_ratio', 'sma_dji_close_ma120_ratio',\n",
    "    'ema_dji_close_ma5_ratio', 'ema_dji_close_ma10_ratio', 'ema_dji_close_ma20_ratio', 'ema_dji_close_ma60_ratio', 'ema_dji_close_ma120_ratio',\n",
    "    'sma_ixic_close_ma5_ratio', 'sma_ixic_close_ma10_ratio', 'sma_ixic_close_ma20_ratio', 'sma_ixic_close_ma60_ratio', 'sma_ixic_close_ma120_ratio',\n",
    "    'ema_ixic_close_ma5_ratio', 'ema_ixic_close_ma10_ratio', 'ema_ixic_close_ma20_ratio', 'ema_ixic_close_ma60_ratio', 'ema_ixic_close_ma120_ratio',\n",
    "    'sma_sp_volume_ma5_ratio', 'sma_sp_volume_ma10_ratio', 'sma_sp_volume_ma20_ratio', 'sma_sp_volume_ma60_ratio', 'sma_sp_volume_ma120_ratio',\n",
    "    'ema_sp_volume_ma5_ratio', 'ema_sp_volume_ma10_ratio', 'ema_sp_volume_ma20_ratio', 'ema_sp_volume_ma60_ratio', 'ema_sp_volume_ma120_ratio',\n",
    "    'sma_dji_volume_ma5_ratio', 'sma_dji_volume_ma10_ratio', 'sma_dji_volume_ma20_ratio', 'sma_dji_volume_ma60_ratio', 'sma_dji_volume_ma120_ratio',\n",
    "    'ema_dji_volume_ma5_ratio', 'ema_dji_volume_ma10_ratio', 'ema_dji_volume_ma20_ratio', 'ema_dji_volume_ma60_ratio', 'ema_dji_volume_ma120_ratio',\n",
    "    'sma_ixic_volume_ma5_ratio', 'sma_ixic_volume_ma10_ratio', 'sma_ixic_volume_ma20_ratio', 'sma_ixic_volume_ma60_ratio', 'sma_ixic_volume_ma120_ratio',\n",
    "    'ema_ixic_volume_ma5_ratio', 'ema_ixic_volume_ma10_ratio', 'ema_ixic_volume_ma20_ratio', 'ema_ixic_volume_ma60_ratio', 'ema_ixic_volume_ma120_ratio',\n",
    "    'sp_close_diff', 'sp_volume_diff', 'dji_close_diff', 'dji_volume_diff', 'ixic_close_diff', 'ixic_volume_diff',\n",
    "    'buy_strength_ratio', 'sell_strength_ratio'\n",
    "]\n",
    "\n",
    "def z_score_normalization(data):\n",
    "    mean_value = np.mean(data)\n",
    "    std_dev = np.std(data)\n",
    "    normalized_data = (data - mean_value) / std_dev\n",
    "    return normalized_data\n",
    "\n",
    "def ydatareader(code, start_date, end_date):\n",
    "    orig_df = yf.download(code, start_date, end_date)\n",
    "    orig_df.drop(columns=['Adj Close'], inplace=True)\n",
    "    orig_df.reset_index(drop=False, inplace=True)\n",
    "    orig_df.columns = ['date', 'open', 'high', 'low', 'close', 'volume']\n",
    "\n",
    "    prep_df = preprocess(orig_df)\n",
    "\n",
    "    sp_df = ydatareader_v2('^GSPC', start_date, end_date)\n",
    "    merge_df = pd.merge_asof(prep_df, sp_df, on='date', direction='nearest')\n",
    "    dji_df = ydatareader_v2('^DJI', start_date, end_date)\n",
    "    merge_df = pd.merge_asof(merge_df, dji_df, on='date', direction='nearest')\n",
    "    ixic_df = ydatareader_v2('^IXIC', start_date, end_date)\n",
    "    merge_df = pd.merge_asof(merge_df, ixic_df, on='date', direction='nearest')\n",
    "\n",
    "    date = datetime.strptime(str(start_date), '%Y-%m-%d')\n",
    "    for i in range(len(merge_df)):\n",
    "        if merge_df['date'][i] >= datetime(date.year + 1, 1, 1):\n",
    "            merge_df = merge_df[i:]\n",
    "            break\n",
    "\n",
    "    merge_df.reset_index(drop=True, inplace=True)\n",
    "\n",
    "    return merge_df\n",
    "\n",
    "def ydatareader_v2(code, start_date, end_date):\n",
    "    orig_df = yf.download(code, start_date, end_date)\n",
    "    orig_df.drop(columns=['Adj Close'], inplace=True)\n",
    "    orig_df.reset_index(drop=False, inplace=True)\n",
    "    orig_df.columns = ['date', 'open', 'high', 'low', 'close', 'volume']\n",
    "\n",
    "    prep_df = preprocess_v2(code, orig_df)\n",
    "\n",
    "    date = datetime.strptime(str(start_date), '%Y-%m-%d')\n",
    "    for i in range(len(prep_df)):\n",
    "        if prep_df['date'][i] >= datetime(date.year + 1, 1, 1):\n",
    "            prep_df = prep_df[i:]\n",
    "            break\n",
    "\n",
    "    prep_df.reset_index(drop=True, inplace=True)\n",
    "\n",
    "    return prep_df\n",
    "\n",
    "def preprocess(data):\n",
    "    windows = [5, 10, 20, 60, 120]\n",
    "    for window in windows:\n",
    "        data[f'sma_close_ma{window}'] = ta.trend.sma_indicator(close=data['close'], window=window)\n",
    "        data[f'sma_volume_ma{window}'] = ta.trend.sma_indicator(close=data['volume'], window=window)\n",
    "        data[f'ema_close_ma{window}'] = ta.trend.ema_indicator(close=data['close'], window=window)\n",
    "        data[f'ema_volume_ma{window}'] = ta.trend.ema_indicator(close=data['volume'], window=window)\n",
    "\n",
    "        # Z-점수-정규화\n",
    "        data[f'sma_close_ma{window}_ratio'] = z_score_normalization(data[f'sma_close_ma{window}'])\n",
    "        data[f'sma_volume_ma{window}_ratio'] = z_score_normalization(data[f'sma_volume_ma{window}'])\n",
    "        data[f'ema_close_ma{window}_ratio'] = z_score_normalization(data[f'ema_close_ma{window}'])\n",
    "        data[f'ema_volume_ma{window}_ratio'] = z_score_normalization(data[f'ema_volume_ma{window}'])\n",
    "\n",
    "    data['bhb'] = ta.volatility.bollinger_hband(close=data['close'], fillna=True)\n",
    "    data['blb'] = ta.volatility.bollinger_lband(close=data['close'], fillna=True)\n",
    "    data['rsi'] = ta.momentum.rsi(close=data['close'], fillna=True)\n",
    "    data['sr'] = ta.momentum.stoch(close=data['close'], high=data['high'], low=data['low'], fillna=True)\n",
    "    data['obv'] = ta.volume.on_balance_volume(close=data['close'], volume=data['volume'], fillna=True)\n",
    "    data['adi'] = ta.volume.acc_dist_index(high=data['high'], low=data['low'], close=data['close'], volume=data['volume'], fillna=True)\n",
    "    data['macd'] = ta.trend.macd(close=data['close'], fillna=True)\n",
    "\n",
    "    data['diffratio'] = np.zeros(len(data))\n",
    "    data.loc[1:, 'diffratio'] = ((data['close'][1:].values - data['close'][:-1].values) / data['close'][:-1].values) * 100\n",
    "    data['open_lastclose_ratio'] = np.zeros(len(data))\n",
    "    data.loc[1:, 'open_lastclose_ratio'] = (data['open'][1:].values - data['close'][:-1].values) / data['close'][:-1].values * 100\n",
    "    data['high_close_ratio'] = (data['high'].values - data['close'].values) / data['close'].values * 100\n",
    "    data['low_close_ratio'] = (data['low'].values - data['close'].values) / data['close'].values * 100\n",
    "    data['close_lastclose_ratio'] = np.zeros(len(data))\n",
    "    data.loc[1:, 'close_lastclose_ratio'] = (data['close'][1:].values - data['close'][:-1].values) / data['close'][:-1].values * 100\n",
    "    data['volume_lastvolume_ratio'] = np.zeros(len(data))\n",
    "    data.loc[1:, 'volume_lastvolume_ratio'] = (data['volume'][1:].values - data['volume'][:-1].values) / data['volume'][:-1].replace(to_replace=0, method='ffill').replace(to_replace=0, method='bfill').values\n",
    "    data['buy_strength'] = np.zeros(len(data))\n",
    "    data['buy_strength'] = np.log(1 + np.maximum((data['high'] - data['open']) + (data['close'] - data['low']), 0 ) * data['volume']).rolling(5).mean()\n",
    "    data['sell_strength'] = np.zeros(len(data))\n",
    "    data['sell_strength'] = np.log(1 + np.maximum((data['high'] - data['close']) + (data['open'] - data['low']), 0) * data['volume']).rolling(5).mean()\n",
    "\n",
    "    # Z-점수-정규화\n",
    "    data['bhb_ratio'] = z_score_normalization(data['bhb'])\n",
    "    data['blb_ratio'] = z_score_normalization(data['blb'])\n",
    "    data['rsi_ratio'] = z_score_normalization(data['rsi'])\n",
    "    data['sr_ratio'] = z_score_normalization(data['sr'])\n",
    "    data['macd_ratio'] = z_score_normalization(data['macd'])\n",
    "    data['obv_ratio'] = z_score_normalization(data['obv'])\n",
    "    data['adi_ratio'] = z_score_normalization(data['adi'])\n",
    "    data['buy_strength_ratio'] = z_score_normalization(data['buy_strength'])\n",
    "    data['sell_strength_ratio'] = z_score_normalization(data['sell_strength'])\n",
    "\n",
    "    return data\n",
    "\n",
    "def preprocess_v2(code, data):\n",
    "    if code == '^GSPC':\n",
    "        name = 'sp'\n",
    "    elif code == '^DJI':\n",
    "        name = 'dji'\n",
    "    elif code == '^IXIC':\n",
    "        name = 'ixic'\n",
    "\n",
    "    windows = [5, 10, 20, 60, 120]\n",
    "    for window in windows:\n",
    "        data[f'sma_{name}_close_ma{window}'] = ta.trend.sma_indicator(close=data['close'], window=window)\n",
    "        data[f'ema_{name}_close_ma{window}'] = ta.trend.ema_indicator(close=data['close'], window=window)\n",
    "        data[f'sma_{name}_volume_ma{window}'] = ta.trend.sma_indicator(close=data['volume'], window=window)\n",
    "        data[f'ema_{name}_volume_ma{window}'] = ta.trend.ema_indicator(close=data['volume'], window=window)\n",
    "        # Z-점수_정규화\n",
    "        data[f'sma_{name}_close_ma{window}_ratio'] = z_score_normalization(data[f'sma_{name}_close_ma{window}'])\n",
    "        data[f'ema_{name}_close_ma{window}_ratio'] = z_score_normalization(data[f'ema_{name}_close_ma{window}'])\n",
    "        data[f'sma_{name}_volume_ma{window}_ratio'] = z_score_normalization(data[f'sma_{name}_volume_ma{window}'])\n",
    "        data[f'ema_{name}_volume_ma{window}_ratio'] = z_score_normalization(data[f'ema_{name}_volume_ma{window}'])\n",
    "\n",
    "    data[f'{name}_close_diff'] = np.zeros(len(data))\n",
    "    data.loc[1:, f'{name}_close_diff'] = (data['close'][1:].values - data['close'][:-1].values) / data['close'][:-1].values * 100\n",
    "    data[f'{name}_volume_diff'] = np.zeros(len(data))\n",
    "    data.loc[1:, f'{name}_volume_diff'] = (data['volume'][1:].values - data['volume'][:-1].values) / data['volume'][:-1].values * 100\n",
    "\n",
    "    data = data[['date', f'sma_{name}_close_ma5_ratio', f'sma_{name}_close_ma10_ratio', f'sma_{name}_close_ma20_ratio', f'sma_{name}_close_ma60_ratio', f'sma_{name}_close_ma120_ratio',\n",
    "                f'ema_{name}_close_ma5_ratio', f'ema_{name}_close_ma10_ratio', f'ema_{name}_close_ma20_ratio', f'ema_{name}_close_ma60_ratio', f'ema_{name}_close_ma120_ratio',\n",
    "                f'sma_{name}_volume_ma5_ratio', f'sma_{name}_volume_ma10_ratio', f'sma_{name}_volume_ma20_ratio', f'sma_{name}_volume_ma60_ratio', f'sma_{name}_volume_ma120_ratio',\n",
    "                f'ema_{name}_volume_ma5_ratio', f'ema_{name}_volume_ma10_ratio', f'ema_{name}_volume_ma20_ratio', f'ema_{name}_volume_ma60_ratio', f'ema_{name}_volume_ma120_ratio',\n",
    "                f'{name}_close_diff', f'{name}_volume_diff']]\n",
    "\n",
    "    return data\n",
    "\n",
    "def load_data(code, start_date, end_date):\n",
    "    # 파이넌스데이터리더 API 데이터 2년치 및 데이터 전처리\n",
    "    df = ydatareader(code, start_date, end_date)\n",
    "    # 기간 변환\n",
    "    df['date'] = df['date'].astype(str)\n",
    "    df['date'] = df['date'].str.replace('-', '')\n",
    "    # 차트 데이터 분리\n",
    "    chart_data = df[COLUMNS_CHART_DATA]\n",
    "    # 학습 데이터 분리\n",
    "    training_data = df[COLUMNS_TRAINING_DATA].values\n",
    "\n",
    "    return chart_data, training_data"
   ]
  }
 ],
 "metadata": {
  "colab": {
   "authorship_tag": "ABX9TyOPauKRCEOrCQXBvSLV0cax",
   "provenance": []
  },
  "kernelspec": {
   "display_name": "Python 3",
   "name": "python3"
  },
  "language_info": {
   "name": "python"
  }
 },
 "nbformat": 4,
 "nbformat_minor": 0
}
